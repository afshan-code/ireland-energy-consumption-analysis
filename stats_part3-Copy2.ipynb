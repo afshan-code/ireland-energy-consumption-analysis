{
 "cells": [
  {
   "cell_type": "markdown",
   "id": "21508a71-ae46-4232-9fd3-34ebb2236868",
   "metadata": {},
   "source": [
    "3.\tUndertake research to find similarities between some country(s) against Ireland and apply parametric and non-parametric inferential statistical techniques to compare them (e.g., t-test, analysis of variance, Wilcoxon test, chi-squared test, among others). You must justify your choices and verify the applicability of the tests. Hypotheses and conclusions must be clearly stated. You are expected to use at least 5 different inferential statistics tests. "
   ]
  },
  {
   "cell_type": "markdown",
   "id": "3bda95b4-6afd-47b6-95f2-c2bbe4580c1f",
   "metadata": {},
   "source": [
    "## STATISTICS FOR DATA ANALYTICS"
   ]
  },
  {
   "cell_type": "code",
   "execution_count": 577,
   "id": "5ad2ac54-b608-4ba2-be4d-cb48bb667091",
   "metadata": {},
   "outputs": [],
   "source": [
    "#import libraries\n",
    "import pandas as pd\n",
    "from scipy.stats import shapiro\n",
    "from scipy.stats import mannwhitneyu\n",
    "from scipy.stats import wilcoxon\n",
    "from scipy.stats import chi2_contingency\n",
    "from scipy.stats import chi2\n",
    "from scipy.stats import kruskal\n",
    "import numpy as np\n",
    "from scipy.stats import ttest_ind, levene\n",
    "from scipy.stats import norm\n",
    "from scipy import stats\n",
    "from scipy.stats import fisher_exact"
   ]
  },
  {
   "cell_type": "code",
   "execution_count": 579,
   "id": "dcdfd4d8-bcfa-4c6a-b769-50bef367ac73",
   "metadata": {},
   "outputs": [],
   "source": [
    "energy_df=pd.read_csv(\"Energyshare2.csv\")"
   ]
  },
  {
   "cell_type": "code",
   "execution_count": 440,
   "id": "3b42bd96-6be7-4e0d-915f-39f7e83e364d",
   "metadata": {
    "scrolled": true
   },
   "outputs": [
    {
     "data": {
      "text/html": [
       "<div>\n",
       "<style scoped>\n",
       "    .dataframe tbody tr th:only-of-type {\n",
       "        vertical-align: middle;\n",
       "    }\n",
       "\n",
       "    .dataframe tbody tr th {\n",
       "        vertical-align: top;\n",
       "    }\n",
       "\n",
       "    .dataframe thead th {\n",
       "        text-align: right;\n",
       "    }\n",
       "</style>\n",
       "<table border=\"1\" class=\"dataframe\">\n",
       "  <thead>\n",
       "    <tr style=\"text-align: right;\">\n",
       "      <th></th>\n",
       "      <th>Area</th>\n",
       "      <th>Country code</th>\n",
       "      <th>Year</th>\n",
       "      <th>Area type</th>\n",
       "      <th>Continent</th>\n",
       "      <th>Ember region</th>\n",
       "      <th>EU</th>\n",
       "      <th>OECD</th>\n",
       "      <th>G20</th>\n",
       "      <th>G7</th>\n",
       "      <th>ASEAN</th>\n",
       "      <th>Category</th>\n",
       "      <th>Subcategory</th>\n",
       "      <th>Variable</th>\n",
       "      <th>Unit</th>\n",
       "      <th>Value</th>\n",
       "      <th>YoY absolute change</th>\n",
       "      <th>YoY % change</th>\n",
       "    </tr>\n",
       "  </thead>\n",
       "  <tbody>\n",
       "    <tr>\n",
       "      <th>0</th>\n",
       "      <td>Austria</td>\n",
       "      <td>AUT</td>\n",
       "      <td>1990</td>\n",
       "      <td>Country</td>\n",
       "      <td>Europe</td>\n",
       "      <td>Europe</td>\n",
       "      <td>1.0</td>\n",
       "      <td>1.0</td>\n",
       "      <td>0.0</td>\n",
       "      <td>0.0</td>\n",
       "      <td>0.0</td>\n",
       "      <td>Electricity demand</td>\n",
       "      <td>Demand</td>\n",
       "      <td>Demand</td>\n",
       "      <td>TWh</td>\n",
       "      <td>48.81</td>\n",
       "      <td>NaN</td>\n",
       "      <td>NaN</td>\n",
       "    </tr>\n",
       "    <tr>\n",
       "      <th>1</th>\n",
       "      <td>Austria</td>\n",
       "      <td>AUT</td>\n",
       "      <td>1990</td>\n",
       "      <td>Country</td>\n",
       "      <td>Europe</td>\n",
       "      <td>Europe</td>\n",
       "      <td>1.0</td>\n",
       "      <td>1.0</td>\n",
       "      <td>0.0</td>\n",
       "      <td>0.0</td>\n",
       "      <td>0.0</td>\n",
       "      <td>Electricity demand</td>\n",
       "      <td>Demand per capita</td>\n",
       "      <td>Demand per capita</td>\n",
       "      <td>MWh</td>\n",
       "      <td>6.36</td>\n",
       "      <td>NaN</td>\n",
       "      <td>NaN</td>\n",
       "    </tr>\n",
       "    <tr>\n",
       "      <th>2</th>\n",
       "      <td>Austria</td>\n",
       "      <td>AUT</td>\n",
       "      <td>1990</td>\n",
       "      <td>Country</td>\n",
       "      <td>Europe</td>\n",
       "      <td>Europe</td>\n",
       "      <td>1.0</td>\n",
       "      <td>1.0</td>\n",
       "      <td>0.0</td>\n",
       "      <td>0.0</td>\n",
       "      <td>0.0</td>\n",
       "      <td>Electricity generation</td>\n",
       "      <td>Aggregate fuel</td>\n",
       "      <td>Clean</td>\n",
       "      <td>%</td>\n",
       "      <td>66.25</td>\n",
       "      <td>NaN</td>\n",
       "      <td>NaN</td>\n",
       "    </tr>\n",
       "    <tr>\n",
       "      <th>3</th>\n",
       "      <td>Austria</td>\n",
       "      <td>AUT</td>\n",
       "      <td>1990</td>\n",
       "      <td>Country</td>\n",
       "      <td>Europe</td>\n",
       "      <td>Europe</td>\n",
       "      <td>1.0</td>\n",
       "      <td>1.0</td>\n",
       "      <td>0.0</td>\n",
       "      <td>0.0</td>\n",
       "      <td>0.0</td>\n",
       "      <td>Electricity generation</td>\n",
       "      <td>Aggregate fuel</td>\n",
       "      <td>Coal</td>\n",
       "      <td>%</td>\n",
       "      <td>12.56</td>\n",
       "      <td>NaN</td>\n",
       "      <td>NaN</td>\n",
       "    </tr>\n",
       "    <tr>\n",
       "      <th>4</th>\n",
       "      <td>Austria</td>\n",
       "      <td>AUT</td>\n",
       "      <td>1990</td>\n",
       "      <td>Country</td>\n",
       "      <td>Europe</td>\n",
       "      <td>Europe</td>\n",
       "      <td>1.0</td>\n",
       "      <td>1.0</td>\n",
       "      <td>0.0</td>\n",
       "      <td>0.0</td>\n",
       "      <td>0.0</td>\n",
       "      <td>Electricity generation</td>\n",
       "      <td>Aggregate fuel</td>\n",
       "      <td>Fossil</td>\n",
       "      <td>%</td>\n",
       "      <td>33.75</td>\n",
       "      <td>NaN</td>\n",
       "      <td>NaN</td>\n",
       "    </tr>\n",
       "  </tbody>\n",
       "</table>\n",
       "</div>"
      ],
      "text/plain": [
       "      Area Country code  Year Area type Continent Ember region   EU  OECD  \\\n",
       "0  Austria          AUT  1990   Country    Europe       Europe  1.0   1.0   \n",
       "1  Austria          AUT  1990   Country    Europe       Europe  1.0   1.0   \n",
       "2  Austria          AUT  1990   Country    Europe       Europe  1.0   1.0   \n",
       "3  Austria          AUT  1990   Country    Europe       Europe  1.0   1.0   \n",
       "4  Austria          AUT  1990   Country    Europe       Europe  1.0   1.0   \n",
       "\n",
       "   G20   G7  ASEAN                Category        Subcategory  \\\n",
       "0  0.0  0.0    0.0      Electricity demand             Demand   \n",
       "1  0.0  0.0    0.0      Electricity demand  Demand per capita   \n",
       "2  0.0  0.0    0.0  Electricity generation     Aggregate fuel   \n",
       "3  0.0  0.0    0.0  Electricity generation     Aggregate fuel   \n",
       "4  0.0  0.0    0.0  Electricity generation     Aggregate fuel   \n",
       "\n",
       "            Variable Unit  Value  YoY absolute change  YoY % change  \n",
       "0             Demand  TWh  48.81                  NaN           NaN  \n",
       "1  Demand per capita  MWh   6.36                  NaN           NaN  \n",
       "2              Clean    %  66.25                  NaN           NaN  \n",
       "3               Coal    %  12.56                  NaN           NaN  \n",
       "4             Fossil    %  33.75                  NaN           NaN  "
      ]
     },
     "execution_count": 440,
     "metadata": {},
     "output_type": "execute_result"
    }
   ],
   "source": [
    "#show first 5 rows\n",
    "energy_df.head()"
   ]
  },
  {
   "cell_type": "code",
   "execution_count": 441,
   "id": "4ae943b9-5f33-4941-a34c-2dd459db4ad2",
   "metadata": {},
   "outputs": [
    {
     "data": {
      "text/plain": [
       "Area                       0\n",
       "Country code            2005\n",
       "Year                       0\n",
       "Area type                  0\n",
       "Continent               2005\n",
       "Ember region            2005\n",
       "EU                      2005\n",
       "OECD                    2005\n",
       "G20                     2005\n",
       "G7                      2005\n",
       "ASEAN                   2005\n",
       "Category                   0\n",
       "Subcategory                0\n",
       "Variable                   0\n",
       "Unit                       0\n",
       "Value                      0\n",
       "YoY absolute change    25602\n",
       "YoY % change           37548\n",
       "dtype: int64"
      ]
     },
     "execution_count": 441,
     "metadata": {},
     "output_type": "execute_result"
    }
   ],
   "source": [
    "#checking null values\n",
    "energy_df.isnull().sum()\n"
   ]
  },
  {
   "cell_type": "code",
   "execution_count": 445,
   "id": "9cbdd7af-2d18-4afe-9fc2-e16b47a98bad",
   "metadata": {},
   "outputs": [
    {
     "data": {
      "text/html": [
       "<div>\n",
       "<style scoped>\n",
       "    .dataframe tbody tr th:only-of-type {\n",
       "        vertical-align: middle;\n",
       "    }\n",
       "\n",
       "    .dataframe tbody tr th {\n",
       "        vertical-align: top;\n",
       "    }\n",
       "\n",
       "    .dataframe thead th {\n",
       "        text-align: right;\n",
       "    }\n",
       "</style>\n",
       "<table border=\"1\" class=\"dataframe\">\n",
       "  <thead>\n",
       "    <tr style=\"text-align: right;\">\n",
       "      <th></th>\n",
       "      <th>Area</th>\n",
       "      <th>Year</th>\n",
       "      <th>Category</th>\n",
       "      <th>Subcategory</th>\n",
       "      <th>Variable</th>\n",
       "      <th>Unit</th>\n",
       "      <th>Value</th>\n",
       "    </tr>\n",
       "  </thead>\n",
       "  <tbody>\n",
       "    <tr>\n",
       "      <th>0</th>\n",
       "      <td>Austria</td>\n",
       "      <td>1990</td>\n",
       "      <td>Electricity demand</td>\n",
       "      <td>Demand</td>\n",
       "      <td>Demand</td>\n",
       "      <td>TWh</td>\n",
       "      <td>48.81</td>\n",
       "    </tr>\n",
       "    <tr>\n",
       "      <th>1</th>\n",
       "      <td>Austria</td>\n",
       "      <td>1990</td>\n",
       "      <td>Electricity demand</td>\n",
       "      <td>Demand per capita</td>\n",
       "      <td>Demand per capita</td>\n",
       "      <td>MWh</td>\n",
       "      <td>6.36</td>\n",
       "    </tr>\n",
       "    <tr>\n",
       "      <th>2</th>\n",
       "      <td>Austria</td>\n",
       "      <td>1990</td>\n",
       "      <td>Electricity generation</td>\n",
       "      <td>Aggregate fuel</td>\n",
       "      <td>Clean</td>\n",
       "      <td>%</td>\n",
       "      <td>66.25</td>\n",
       "    </tr>\n",
       "    <tr>\n",
       "      <th>3</th>\n",
       "      <td>Austria</td>\n",
       "      <td>1990</td>\n",
       "      <td>Electricity generation</td>\n",
       "      <td>Aggregate fuel</td>\n",
       "      <td>Coal</td>\n",
       "      <td>%</td>\n",
       "      <td>12.56</td>\n",
       "    </tr>\n",
       "    <tr>\n",
       "      <th>4</th>\n",
       "      <td>Austria</td>\n",
       "      <td>1990</td>\n",
       "      <td>Electricity generation</td>\n",
       "      <td>Aggregate fuel</td>\n",
       "      <td>Fossil</td>\n",
       "      <td>%</td>\n",
       "      <td>33.75</td>\n",
       "    </tr>\n",
       "  </tbody>\n",
       "</table>\n",
       "</div>"
      ],
      "text/plain": [
       "      Area  Year                Category        Subcategory  \\\n",
       "0  Austria  1990      Electricity demand             Demand   \n",
       "1  Austria  1990      Electricity demand  Demand per capita   \n",
       "2  Austria  1990  Electricity generation     Aggregate fuel   \n",
       "3  Austria  1990  Electricity generation     Aggregate fuel   \n",
       "4  Austria  1990  Electricity generation     Aggregate fuel   \n",
       "\n",
       "            Variable Unit  Value  \n",
       "0             Demand  TWh  48.81  \n",
       "1  Demand per capita  MWh   6.36  \n",
       "2              Clean    %  66.25  \n",
       "3               Coal    %  12.56  \n",
       "4             Fossil    %  33.75  "
      ]
     },
     "execution_count": 445,
     "metadata": {},
     "output_type": "execute_result"
    }
   ],
   "source": [
    "#cleaning data\n",
    "drop_col = ['Area type', 'Country code', 'Continent', 'Ember region', 'EU', 'OECD', 'G20', 'G7', 'ASEAN', \n",
    "                   'YoY absolute change', 'YoY % change']\n",
    "df_cleaned = energy_df.drop(columns=drop_col)\n",
    "df_cleaned.head()"
   ]
  },
  {
   "cell_type": "code",
   "execution_count": 447,
   "id": "38921ef8-fd05-4ad4-87df-c7bf6a9197fa",
   "metadata": {},
   "outputs": [
    {
     "name": "stdout",
     "output_type": "stream",
     "text": [
      "['Electricity demand' 'Electricity generation' 'Electricity imports'\n",
      " 'Power sector emissions']\n"
     ]
    }
   ],
   "source": [
    "#checking unique categories\n",
    "print(df_cleaned['Category'].unique())\n"
   ]
  },
  {
   "cell_type": "code",
   "execution_count": 449,
   "id": "d1c15aed-cb2a-46ef-899f-cf10c00708ca",
   "metadata": {},
   "outputs": [
    {
     "name": "stdout",
     "output_type": "stream",
     "text": [
      "['Demand' 'Demand per capita' 'Aggregate fuel' 'Fuel' 'Total'\n",
      " 'Electricity imports' 'CO2 intensity']\n"
     ]
    }
   ],
   "source": [
    "#checking unique subcategories\n",
    "print(df_cleaned['Subcategory'].unique())"
   ]
  },
  {
   "cell_type": "code",
   "execution_count": 451,
   "id": "c08589c6-371d-403c-8c7d-01664a37512e",
   "metadata": {},
   "outputs": [
    {
     "name": "stdout",
     "output_type": "stream",
     "text": [
      "['Demand' 'Demand per capita' 'Clean' 'Coal' 'Fossil'\n",
      " 'Hydro, bioenergy and other renewables' 'Renewables' 'Wind'\n",
      " 'Wind and solar' 'Bioenergy' 'Gas' 'Hard coal' 'Hydro' 'Lignite'\n",
      " 'Nuclear' 'Onshore wind' 'Other fossil' 'Other renewables' 'Solar'\n",
      " 'Total generation' 'Net imports' 'CO2 intensity' 'Offshore wind']\n"
     ]
    }
   ],
   "source": [
    "#checking unique variables\n",
    "print(df_cleaned['Variable'].unique())"
   ]
  },
  {
   "cell_type": "code",
   "execution_count": 453,
   "id": "1a61ba50-d4e6-44da-8432-ae7ed4cbd225",
   "metadata": {},
   "outputs": [
    {
     "name": "stdout",
     "output_type": "stream",
     "text": [
      "['TWh' 'MWh' '%' 'MtCO2e' 'gCO2e per kWh']\n"
     ]
    }
   ],
   "source": [
    "#checking unique units\n",
    "print(df_cleaned['Unit'].unique())"
   ]
  },
  {
   "cell_type": "code",
   "execution_count": 455,
   "id": "58ebffab-36a9-411a-98b4-b2e02b27cfa8",
   "metadata": {},
   "outputs": [
    {
     "data": {
      "text/html": [
       "<div>\n",
       "<style scoped>\n",
       "    .dataframe tbody tr th:only-of-type {\n",
       "        vertical-align: middle;\n",
       "    }\n",
       "\n",
       "    .dataframe tbody tr th {\n",
       "        vertical-align: top;\n",
       "    }\n",
       "\n",
       "    .dataframe thead th {\n",
       "        text-align: right;\n",
       "    }\n",
       "</style>\n",
       "<table border=\"1\" class=\"dataframe\">\n",
       "  <thead>\n",
       "    <tr style=\"text-align: right;\">\n",
       "      <th></th>\n",
       "      <th>Category</th>\n",
       "      <th>Subcategory</th>\n",
       "      <th>Variable</th>\n",
       "      <th>Unit</th>\n",
       "    </tr>\n",
       "  </thead>\n",
       "  <tbody>\n",
       "    <tr>\n",
       "      <th>0</th>\n",
       "      <td>Electricity demand</td>\n",
       "      <td>Demand</td>\n",
       "      <td>Demand</td>\n",
       "      <td>TWh</td>\n",
       "    </tr>\n",
       "    <tr>\n",
       "      <th>1</th>\n",
       "      <td>Electricity demand</td>\n",
       "      <td>Demand per capita</td>\n",
       "      <td>Demand per capita</td>\n",
       "      <td>MWh</td>\n",
       "    </tr>\n",
       "    <tr>\n",
       "      <th>2</th>\n",
       "      <td>Electricity generation</td>\n",
       "      <td>Aggregate fuel</td>\n",
       "      <td>Clean</td>\n",
       "      <td>%</td>\n",
       "    </tr>\n",
       "    <tr>\n",
       "      <th>3</th>\n",
       "      <td>Electricity generation</td>\n",
       "      <td>Aggregate fuel</td>\n",
       "      <td>Coal</td>\n",
       "      <td>%</td>\n",
       "    </tr>\n",
       "    <tr>\n",
       "      <th>4</th>\n",
       "      <td>Electricity generation</td>\n",
       "      <td>Aggregate fuel</td>\n",
       "      <td>Fossil</td>\n",
       "      <td>%</td>\n",
       "    </tr>\n",
       "    <tr>\n",
       "      <th>5</th>\n",
       "      <td>Electricity generation</td>\n",
       "      <td>Aggregate fuel</td>\n",
       "      <td>Hydro, bioenergy and other renewables</td>\n",
       "      <td>%</td>\n",
       "    </tr>\n",
       "    <tr>\n",
       "      <th>6</th>\n",
       "      <td>Electricity generation</td>\n",
       "      <td>Aggregate fuel</td>\n",
       "      <td>Renewables</td>\n",
       "      <td>%</td>\n",
       "    </tr>\n",
       "    <tr>\n",
       "      <th>7</th>\n",
       "      <td>Electricity generation</td>\n",
       "      <td>Aggregate fuel</td>\n",
       "      <td>Wind</td>\n",
       "      <td>%</td>\n",
       "    </tr>\n",
       "    <tr>\n",
       "      <th>8</th>\n",
       "      <td>Electricity generation</td>\n",
       "      <td>Aggregate fuel</td>\n",
       "      <td>Wind and solar</td>\n",
       "      <td>%</td>\n",
       "    </tr>\n",
       "    <tr>\n",
       "      <th>9</th>\n",
       "      <td>Electricity generation</td>\n",
       "      <td>Aggregate fuel</td>\n",
       "      <td>Clean</td>\n",
       "      <td>TWh</td>\n",
       "    </tr>\n",
       "    <tr>\n",
       "      <th>10</th>\n",
       "      <td>Electricity generation</td>\n",
       "      <td>Aggregate fuel</td>\n",
       "      <td>Coal</td>\n",
       "      <td>TWh</td>\n",
       "    </tr>\n",
       "    <tr>\n",
       "      <th>11</th>\n",
       "      <td>Electricity generation</td>\n",
       "      <td>Aggregate fuel</td>\n",
       "      <td>Fossil</td>\n",
       "      <td>TWh</td>\n",
       "    </tr>\n",
       "    <tr>\n",
       "      <th>12</th>\n",
       "      <td>Electricity generation</td>\n",
       "      <td>Aggregate fuel</td>\n",
       "      <td>Hydro, bioenergy and other renewables</td>\n",
       "      <td>TWh</td>\n",
       "    </tr>\n",
       "    <tr>\n",
       "      <th>13</th>\n",
       "      <td>Electricity generation</td>\n",
       "      <td>Aggregate fuel</td>\n",
       "      <td>Renewables</td>\n",
       "      <td>TWh</td>\n",
       "    </tr>\n",
       "    <tr>\n",
       "      <th>14</th>\n",
       "      <td>Electricity generation</td>\n",
       "      <td>Aggregate fuel</td>\n",
       "      <td>Wind</td>\n",
       "      <td>TWh</td>\n",
       "    </tr>\n",
       "    <tr>\n",
       "      <th>15</th>\n",
       "      <td>Electricity generation</td>\n",
       "      <td>Aggregate fuel</td>\n",
       "      <td>Wind and solar</td>\n",
       "      <td>TWh</td>\n",
       "    </tr>\n",
       "    <tr>\n",
       "      <th>16</th>\n",
       "      <td>Electricity generation</td>\n",
       "      <td>Fuel</td>\n",
       "      <td>Bioenergy</td>\n",
       "      <td>%</td>\n",
       "    </tr>\n",
       "    <tr>\n",
       "      <th>17</th>\n",
       "      <td>Electricity generation</td>\n",
       "      <td>Fuel</td>\n",
       "      <td>Gas</td>\n",
       "      <td>%</td>\n",
       "    </tr>\n",
       "    <tr>\n",
       "      <th>18</th>\n",
       "      <td>Electricity generation</td>\n",
       "      <td>Fuel</td>\n",
       "      <td>Hard coal</td>\n",
       "      <td>%</td>\n",
       "    </tr>\n",
       "    <tr>\n",
       "      <th>19</th>\n",
       "      <td>Electricity generation</td>\n",
       "      <td>Fuel</td>\n",
       "      <td>Hydro</td>\n",
       "      <td>%</td>\n",
       "    </tr>\n",
       "    <tr>\n",
       "      <th>20</th>\n",
       "      <td>Electricity generation</td>\n",
       "      <td>Fuel</td>\n",
       "      <td>Lignite</td>\n",
       "      <td>%</td>\n",
       "    </tr>\n",
       "    <tr>\n",
       "      <th>21</th>\n",
       "      <td>Electricity generation</td>\n",
       "      <td>Fuel</td>\n",
       "      <td>Nuclear</td>\n",
       "      <td>%</td>\n",
       "    </tr>\n",
       "    <tr>\n",
       "      <th>22</th>\n",
       "      <td>Electricity generation</td>\n",
       "      <td>Fuel</td>\n",
       "      <td>Onshore wind</td>\n",
       "      <td>%</td>\n",
       "    </tr>\n",
       "    <tr>\n",
       "      <th>23</th>\n",
       "      <td>Electricity generation</td>\n",
       "      <td>Fuel</td>\n",
       "      <td>Other fossil</td>\n",
       "      <td>%</td>\n",
       "    </tr>\n",
       "    <tr>\n",
       "      <th>24</th>\n",
       "      <td>Electricity generation</td>\n",
       "      <td>Fuel</td>\n",
       "      <td>Other renewables</td>\n",
       "      <td>%</td>\n",
       "    </tr>\n",
       "    <tr>\n",
       "      <th>25</th>\n",
       "      <td>Electricity generation</td>\n",
       "      <td>Fuel</td>\n",
       "      <td>Solar</td>\n",
       "      <td>%</td>\n",
       "    </tr>\n",
       "    <tr>\n",
       "      <th>26</th>\n",
       "      <td>Electricity generation</td>\n",
       "      <td>Fuel</td>\n",
       "      <td>Bioenergy</td>\n",
       "      <td>TWh</td>\n",
       "    </tr>\n",
       "    <tr>\n",
       "      <th>27</th>\n",
       "      <td>Electricity generation</td>\n",
       "      <td>Fuel</td>\n",
       "      <td>Gas</td>\n",
       "      <td>TWh</td>\n",
       "    </tr>\n",
       "    <tr>\n",
       "      <th>28</th>\n",
       "      <td>Electricity generation</td>\n",
       "      <td>Fuel</td>\n",
       "      <td>Hard coal</td>\n",
       "      <td>TWh</td>\n",
       "    </tr>\n",
       "    <tr>\n",
       "      <th>29</th>\n",
       "      <td>Electricity generation</td>\n",
       "      <td>Fuel</td>\n",
       "      <td>Hydro</td>\n",
       "      <td>TWh</td>\n",
       "    </tr>\n",
       "    <tr>\n",
       "      <th>30</th>\n",
       "      <td>Electricity generation</td>\n",
       "      <td>Fuel</td>\n",
       "      <td>Lignite</td>\n",
       "      <td>TWh</td>\n",
       "    </tr>\n",
       "    <tr>\n",
       "      <th>31</th>\n",
       "      <td>Electricity generation</td>\n",
       "      <td>Fuel</td>\n",
       "      <td>Nuclear</td>\n",
       "      <td>TWh</td>\n",
       "    </tr>\n",
       "    <tr>\n",
       "      <th>32</th>\n",
       "      <td>Electricity generation</td>\n",
       "      <td>Fuel</td>\n",
       "      <td>Onshore wind</td>\n",
       "      <td>TWh</td>\n",
       "    </tr>\n",
       "    <tr>\n",
       "      <th>33</th>\n",
       "      <td>Electricity generation</td>\n",
       "      <td>Fuel</td>\n",
       "      <td>Other fossil</td>\n",
       "      <td>TWh</td>\n",
       "    </tr>\n",
       "    <tr>\n",
       "      <th>34</th>\n",
       "      <td>Electricity generation</td>\n",
       "      <td>Fuel</td>\n",
       "      <td>Other renewables</td>\n",
       "      <td>TWh</td>\n",
       "    </tr>\n",
       "    <tr>\n",
       "      <th>35</th>\n",
       "      <td>Electricity generation</td>\n",
       "      <td>Fuel</td>\n",
       "      <td>Solar</td>\n",
       "      <td>TWh</td>\n",
       "    </tr>\n",
       "    <tr>\n",
       "      <th>36</th>\n",
       "      <td>Electricity generation</td>\n",
       "      <td>Total</td>\n",
       "      <td>Total generation</td>\n",
       "      <td>TWh</td>\n",
       "    </tr>\n",
       "    <tr>\n",
       "      <th>37</th>\n",
       "      <td>Electricity imports</td>\n",
       "      <td>Electricity imports</td>\n",
       "      <td>Net imports</td>\n",
       "      <td>TWh</td>\n",
       "    </tr>\n",
       "    <tr>\n",
       "      <th>38</th>\n",
       "      <td>Power sector emissions</td>\n",
       "      <td>Aggregate fuel</td>\n",
       "      <td>Clean</td>\n",
       "      <td>MtCO2e</td>\n",
       "    </tr>\n",
       "    <tr>\n",
       "      <th>39</th>\n",
       "      <td>Power sector emissions</td>\n",
       "      <td>Aggregate fuel</td>\n",
       "      <td>Coal</td>\n",
       "      <td>MtCO2e</td>\n",
       "    </tr>\n",
       "    <tr>\n",
       "      <th>40</th>\n",
       "      <td>Power sector emissions</td>\n",
       "      <td>Aggregate fuel</td>\n",
       "      <td>Fossil</td>\n",
       "      <td>MtCO2e</td>\n",
       "    </tr>\n",
       "    <tr>\n",
       "      <th>41</th>\n",
       "      <td>Power sector emissions</td>\n",
       "      <td>Aggregate fuel</td>\n",
       "      <td>Hydro, bioenergy and other renewables</td>\n",
       "      <td>MtCO2e</td>\n",
       "    </tr>\n",
       "    <tr>\n",
       "      <th>42</th>\n",
       "      <td>Power sector emissions</td>\n",
       "      <td>Aggregate fuel</td>\n",
       "      <td>Renewables</td>\n",
       "      <td>MtCO2e</td>\n",
       "    </tr>\n",
       "    <tr>\n",
       "      <th>43</th>\n",
       "      <td>Power sector emissions</td>\n",
       "      <td>Aggregate fuel</td>\n",
       "      <td>Wind</td>\n",
       "      <td>MtCO2e</td>\n",
       "    </tr>\n",
       "    <tr>\n",
       "      <th>44</th>\n",
       "      <td>Power sector emissions</td>\n",
       "      <td>Aggregate fuel</td>\n",
       "      <td>Wind and solar</td>\n",
       "      <td>MtCO2e</td>\n",
       "    </tr>\n",
       "    <tr>\n",
       "      <th>45</th>\n",
       "      <td>Power sector emissions</td>\n",
       "      <td>CO2 intensity</td>\n",
       "      <td>CO2 intensity</td>\n",
       "      <td>gCO2e per kWh</td>\n",
       "    </tr>\n",
       "    <tr>\n",
       "      <th>46</th>\n",
       "      <td>Power sector emissions</td>\n",
       "      <td>Fuel</td>\n",
       "      <td>Bioenergy</td>\n",
       "      <td>MtCO2e</td>\n",
       "    </tr>\n",
       "    <tr>\n",
       "      <th>47</th>\n",
       "      <td>Power sector emissions</td>\n",
       "      <td>Fuel</td>\n",
       "      <td>Gas</td>\n",
       "      <td>MtCO2e</td>\n",
       "    </tr>\n",
       "    <tr>\n",
       "      <th>48</th>\n",
       "      <td>Power sector emissions</td>\n",
       "      <td>Fuel</td>\n",
       "      <td>Hard coal</td>\n",
       "      <td>MtCO2e</td>\n",
       "    </tr>\n",
       "    <tr>\n",
       "      <th>49</th>\n",
       "      <td>Power sector emissions</td>\n",
       "      <td>Fuel</td>\n",
       "      <td>Hydro</td>\n",
       "      <td>MtCO2e</td>\n",
       "    </tr>\n",
       "    <tr>\n",
       "      <th>50</th>\n",
       "      <td>Power sector emissions</td>\n",
       "      <td>Fuel</td>\n",
       "      <td>Lignite</td>\n",
       "      <td>MtCO2e</td>\n",
       "    </tr>\n",
       "    <tr>\n",
       "      <th>51</th>\n",
       "      <td>Power sector emissions</td>\n",
       "      <td>Fuel</td>\n",
       "      <td>Nuclear</td>\n",
       "      <td>MtCO2e</td>\n",
       "    </tr>\n",
       "    <tr>\n",
       "      <th>52</th>\n",
       "      <td>Power sector emissions</td>\n",
       "      <td>Fuel</td>\n",
       "      <td>Onshore wind</td>\n",
       "      <td>MtCO2e</td>\n",
       "    </tr>\n",
       "    <tr>\n",
       "      <th>53</th>\n",
       "      <td>Power sector emissions</td>\n",
       "      <td>Fuel</td>\n",
       "      <td>Other fossil</td>\n",
       "      <td>MtCO2e</td>\n",
       "    </tr>\n",
       "    <tr>\n",
       "      <th>54</th>\n",
       "      <td>Power sector emissions</td>\n",
       "      <td>Fuel</td>\n",
       "      <td>Other renewables</td>\n",
       "      <td>MtCO2e</td>\n",
       "    </tr>\n",
       "    <tr>\n",
       "      <th>55</th>\n",
       "      <td>Power sector emissions</td>\n",
       "      <td>Fuel</td>\n",
       "      <td>Solar</td>\n",
       "      <td>MtCO2e</td>\n",
       "    </tr>\n",
       "    <tr>\n",
       "      <th>3046</th>\n",
       "      <td>Electricity generation</td>\n",
       "      <td>Fuel</td>\n",
       "      <td>Offshore wind</td>\n",
       "      <td>%</td>\n",
       "    </tr>\n",
       "    <tr>\n",
       "      <th>3057</th>\n",
       "      <td>Electricity generation</td>\n",
       "      <td>Fuel</td>\n",
       "      <td>Offshore wind</td>\n",
       "      <td>TWh</td>\n",
       "    </tr>\n",
       "    <tr>\n",
       "      <th>3078</th>\n",
       "      <td>Power sector emissions</td>\n",
       "      <td>Fuel</td>\n",
       "      <td>Offshore wind</td>\n",
       "      <td>MtCO2e</td>\n",
       "    </tr>\n",
       "  </tbody>\n",
       "</table>\n",
       "</div>"
      ],
      "text/plain": [
       "                    Category          Subcategory  \\\n",
       "0         Electricity demand               Demand   \n",
       "1         Electricity demand    Demand per capita   \n",
       "2     Electricity generation       Aggregate fuel   \n",
       "3     Electricity generation       Aggregate fuel   \n",
       "4     Electricity generation       Aggregate fuel   \n",
       "5     Electricity generation       Aggregate fuel   \n",
       "6     Electricity generation       Aggregate fuel   \n",
       "7     Electricity generation       Aggregate fuel   \n",
       "8     Electricity generation       Aggregate fuel   \n",
       "9     Electricity generation       Aggregate fuel   \n",
       "10    Electricity generation       Aggregate fuel   \n",
       "11    Electricity generation       Aggregate fuel   \n",
       "12    Electricity generation       Aggregate fuel   \n",
       "13    Electricity generation       Aggregate fuel   \n",
       "14    Electricity generation       Aggregate fuel   \n",
       "15    Electricity generation       Aggregate fuel   \n",
       "16    Electricity generation                 Fuel   \n",
       "17    Electricity generation                 Fuel   \n",
       "18    Electricity generation                 Fuel   \n",
       "19    Electricity generation                 Fuel   \n",
       "20    Electricity generation                 Fuel   \n",
       "21    Electricity generation                 Fuel   \n",
       "22    Electricity generation                 Fuel   \n",
       "23    Electricity generation                 Fuel   \n",
       "24    Electricity generation                 Fuel   \n",
       "25    Electricity generation                 Fuel   \n",
       "26    Electricity generation                 Fuel   \n",
       "27    Electricity generation                 Fuel   \n",
       "28    Electricity generation                 Fuel   \n",
       "29    Electricity generation                 Fuel   \n",
       "30    Electricity generation                 Fuel   \n",
       "31    Electricity generation                 Fuel   \n",
       "32    Electricity generation                 Fuel   \n",
       "33    Electricity generation                 Fuel   \n",
       "34    Electricity generation                 Fuel   \n",
       "35    Electricity generation                 Fuel   \n",
       "36    Electricity generation                Total   \n",
       "37       Electricity imports  Electricity imports   \n",
       "38    Power sector emissions       Aggregate fuel   \n",
       "39    Power sector emissions       Aggregate fuel   \n",
       "40    Power sector emissions       Aggregate fuel   \n",
       "41    Power sector emissions       Aggregate fuel   \n",
       "42    Power sector emissions       Aggregate fuel   \n",
       "43    Power sector emissions       Aggregate fuel   \n",
       "44    Power sector emissions       Aggregate fuel   \n",
       "45    Power sector emissions        CO2 intensity   \n",
       "46    Power sector emissions                 Fuel   \n",
       "47    Power sector emissions                 Fuel   \n",
       "48    Power sector emissions                 Fuel   \n",
       "49    Power sector emissions                 Fuel   \n",
       "50    Power sector emissions                 Fuel   \n",
       "51    Power sector emissions                 Fuel   \n",
       "52    Power sector emissions                 Fuel   \n",
       "53    Power sector emissions                 Fuel   \n",
       "54    Power sector emissions                 Fuel   \n",
       "55    Power sector emissions                 Fuel   \n",
       "3046  Electricity generation                 Fuel   \n",
       "3057  Electricity generation                 Fuel   \n",
       "3078  Power sector emissions                 Fuel   \n",
       "\n",
       "                                   Variable           Unit  \n",
       "0                                    Demand            TWh  \n",
       "1                         Demand per capita            MWh  \n",
       "2                                     Clean              %  \n",
       "3                                      Coal              %  \n",
       "4                                    Fossil              %  \n",
       "5     Hydro, bioenergy and other renewables              %  \n",
       "6                                Renewables              %  \n",
       "7                                      Wind              %  \n",
       "8                            Wind and solar              %  \n",
       "9                                     Clean            TWh  \n",
       "10                                     Coal            TWh  \n",
       "11                                   Fossil            TWh  \n",
       "12    Hydro, bioenergy and other renewables            TWh  \n",
       "13                               Renewables            TWh  \n",
       "14                                     Wind            TWh  \n",
       "15                           Wind and solar            TWh  \n",
       "16                                Bioenergy              %  \n",
       "17                                      Gas              %  \n",
       "18                                Hard coal              %  \n",
       "19                                    Hydro              %  \n",
       "20                                  Lignite              %  \n",
       "21                                  Nuclear              %  \n",
       "22                             Onshore wind              %  \n",
       "23                             Other fossil              %  \n",
       "24                         Other renewables              %  \n",
       "25                                    Solar              %  \n",
       "26                                Bioenergy            TWh  \n",
       "27                                      Gas            TWh  \n",
       "28                                Hard coal            TWh  \n",
       "29                                    Hydro            TWh  \n",
       "30                                  Lignite            TWh  \n",
       "31                                  Nuclear            TWh  \n",
       "32                             Onshore wind            TWh  \n",
       "33                             Other fossil            TWh  \n",
       "34                         Other renewables            TWh  \n",
       "35                                    Solar            TWh  \n",
       "36                         Total generation            TWh  \n",
       "37                              Net imports            TWh  \n",
       "38                                    Clean         MtCO2e  \n",
       "39                                     Coal         MtCO2e  \n",
       "40                                   Fossil         MtCO2e  \n",
       "41    Hydro, bioenergy and other renewables         MtCO2e  \n",
       "42                               Renewables         MtCO2e  \n",
       "43                                     Wind         MtCO2e  \n",
       "44                           Wind and solar         MtCO2e  \n",
       "45                            CO2 intensity  gCO2e per kWh  \n",
       "46                                Bioenergy         MtCO2e  \n",
       "47                                      Gas         MtCO2e  \n",
       "48                                Hard coal         MtCO2e  \n",
       "49                                    Hydro         MtCO2e  \n",
       "50                                  Lignite         MtCO2e  \n",
       "51                                  Nuclear         MtCO2e  \n",
       "52                             Onshore wind         MtCO2e  \n",
       "53                             Other fossil         MtCO2e  \n",
       "54                         Other renewables         MtCO2e  \n",
       "55                                    Solar         MtCO2e  \n",
       "3046                          Offshore wind              %  \n",
       "3057                          Offshore wind            TWh  \n",
       "3078                          Offshore wind         MtCO2e  "
      ]
     },
     "execution_count": 455,
     "metadata": {},
     "output_type": "execute_result"
    }
   ],
   "source": [
    "df_cleaned[['Category', 'Subcategory', 'Variable', 'Unit']].drop_duplicates()\n"
   ]
  },
  {
   "cell_type": "code",
   "execution_count": 457,
   "id": "a2556fd0-df8b-4eef-b260-f9ed8feb3ce3",
   "metadata": {},
   "outputs": [],
   "source": [
    "#Selecting required categoires for applying inferential statistics"
   ]
  },
  {
   "cell_type": "code",
   "execution_count": 459,
   "id": "0d294a67-eab0-4f92-be3a-7b5dbac331ae",
   "metadata": {},
   "outputs": [
    {
     "name": "stdout",
     "output_type": "stream",
     "text": [
      "Pivoted columns:\n",
      "\n",
      "Area\n",
      "Year\n",
      "Electricity demand - Demand - Demand (TWh)\n",
      "Electricity generation - Aggregate fuel - Renewables (%)\n",
      "Electricity generation - Total - Total generation (TWh)\n",
      "Electricity imports - Electricity imports - Net imports (TWh)\n",
      "Power sector emissions - CO2 intensity - CO2 intensity (gCO2e per kWh)\n"
     ]
    },
    {
     "name": "stderr",
     "output_type": "stream",
     "text": [
      "C:\\Users\\Dell\\AppData\\Local\\Temp\\ipykernel_14588\\3093883732.py:30: SettingWithCopyWarning: \n",
      "A value is trying to be set on a copy of a slice from a DataFrame.\n",
      "Try using .loc[row_indexer,col_indexer] = value instead\n",
      "\n",
      "See the caveats in the documentation: https://pandas.pydata.org/pandas-docs/stable/user_guide/indexing.html#returning-a-view-versus-a-copy\n",
      "  selected_rows['Indicator'] = (\n"
     ]
    }
   ],
   "source": [
    "\n",
    "# STEP 1: Filter the selected indicators\n",
    "selected_rows = df_cleaned[\n",
    "    ((df_cleaned['Category'] == 'Electricity demand') & \n",
    "     (df_cleaned['Subcategory'] == 'Demand') & \n",
    "     (df_cleaned['Variable'] == 'Demand') & \n",
    "     (df_cleaned['Unit'] == 'TWh')) |\n",
    "\n",
    "    ((df_cleaned['Category'] == 'Power sector emissions') & \n",
    "     (df_cleaned['Subcategory'] == 'CO2 intensity') & \n",
    "     (df_cleaned['Variable'] == 'CO2 intensity') & \n",
    "     (df_cleaned['Unit'] == 'gCO2e per kWh')) |\n",
    "\n",
    "    ((df_cleaned['Category'] == 'Electricity generation') & \n",
    "     (df_cleaned['Subcategory'] == 'Total') & \n",
    "     (df_cleaned['Variable'] == 'Total generation') & \n",
    "     (df_cleaned['Unit'] == 'TWh')) |\n",
    "\n",
    "    ((df_cleaned['Category'] == 'Electricity generation') & \n",
    "     (df_cleaned['Subcategory'] == 'Aggregate fuel') & \n",
    "     (df_cleaned['Variable'] == 'Renewables') & \n",
    "     (df_cleaned['Unit'] == '%')) |\n",
    "\n",
    "    ((df_cleaned['Category'] == 'Electricity imports') & \n",
    "     (df_cleaned['Subcategory'] == 'Electricity imports') & \n",
    "     (df_cleaned['Variable'] == 'Net imports') & \n",
    "     (df_cleaned['Unit'] == 'TWh'))\n",
    "]\n",
    "\n",
    "# STEP 2: Create a unique 'Indicator' column so each indicator stays separate\n",
    "selected_rows['Indicator'] = (\n",
    "    selected_rows['Category'] + ' - ' +\n",
    "    selected_rows['Subcategory'] + ' - ' +\n",
    "    selected_rows['Variable'] + ' (' +\n",
    "    selected_rows['Unit'] + ')'\n",
    ")\n",
    "\n",
    "# STEP 3: Pivot to wide format — One row per (Area, Country code, Year), each Indicator as a column\n",
    "df_pivot = selected_rows.pivot_table(\n",
    "    index=['Area', 'Year'],\n",
    "    columns='Indicator',\n",
    "    values='Value'\n",
    ").reset_index()\n",
    "\n",
    "# Optional: Show all resulting columns (for confirmation)\n",
    "print(\"Pivoted columns:\\n\")\n",
    "for col in df_pivot.columns:\n",
    "    print(col)\n"
   ]
  },
  {
   "cell_type": "code",
   "execution_count": 461,
   "id": "cdebec48-44aa-4c35-a9f7-163b360f9963",
   "metadata": {},
   "outputs": [
    {
     "data": {
      "text/html": [
       "<div>\n",
       "<style scoped>\n",
       "    .dataframe tbody tr th:only-of-type {\n",
       "        vertical-align: middle;\n",
       "    }\n",
       "\n",
       "    .dataframe tbody tr th {\n",
       "        vertical-align: top;\n",
       "    }\n",
       "\n",
       "    .dataframe thead th {\n",
       "        text-align: right;\n",
       "    }\n",
       "</style>\n",
       "<table border=\"1\" class=\"dataframe\">\n",
       "  <thead>\n",
       "    <tr style=\"text-align: right;\">\n",
       "      <th>Indicator</th>\n",
       "      <th>Area</th>\n",
       "      <th>Year</th>\n",
       "      <th>Electricity demand - Demand - Demand (TWh)</th>\n",
       "      <th>Electricity generation - Aggregate fuel - Renewables (%)</th>\n",
       "      <th>Electricity generation - Total - Total generation (TWh)</th>\n",
       "      <th>Electricity imports - Electricity imports - Net imports (TWh)</th>\n",
       "      <th>Power sector emissions - CO2 intensity - CO2 intensity (gCO2e per kWh)</th>\n",
       "    </tr>\n",
       "  </thead>\n",
       "  <tbody>\n",
       "    <tr>\n",
       "      <th>0</th>\n",
       "      <td>Austria</td>\n",
       "      <td>1990</td>\n",
       "      <td>48.81</td>\n",
       "      <td>66.25</td>\n",
       "      <td>49.27</td>\n",
       "      <td>-0.46</td>\n",
       "      <td>249.85</td>\n",
       "    </tr>\n",
       "    <tr>\n",
       "      <th>1</th>\n",
       "      <td>Austria</td>\n",
       "      <td>1991</td>\n",
       "      <td>50.93</td>\n",
       "      <td>65.09</td>\n",
       "      <td>50.16</td>\n",
       "      <td>0.77</td>\n",
       "      <td>262.76</td>\n",
       "    </tr>\n",
       "    <tr>\n",
       "      <th>2</th>\n",
       "      <td>Austria</td>\n",
       "      <td>1992</td>\n",
       "      <td>50.44</td>\n",
       "      <td>72.48</td>\n",
       "      <td>49.89</td>\n",
       "      <td>0.55</td>\n",
       "      <td>201.64</td>\n",
       "    </tr>\n",
       "    <tr>\n",
       "      <th>3</th>\n",
       "      <td>Austria</td>\n",
       "      <td>1993</td>\n",
       "      <td>50.58</td>\n",
       "      <td>74.16</td>\n",
       "      <td>51.31</td>\n",
       "      <td>-0.73</td>\n",
       "      <td>183.59</td>\n",
       "    </tr>\n",
       "    <tr>\n",
       "      <th>4</th>\n",
       "      <td>Austria</td>\n",
       "      <td>1994</td>\n",
       "      <td>51.13</td>\n",
       "      <td>71.03</td>\n",
       "      <td>51.95</td>\n",
       "      <td>-0.82</td>\n",
       "      <td>196.15</td>\n",
       "    </tr>\n",
       "  </tbody>\n",
       "</table>\n",
       "</div>"
      ],
      "text/plain": [
       "Indicator     Area  Year  Electricity demand - Demand - Demand (TWh)  \\\n",
       "0          Austria  1990                                       48.81   \n",
       "1          Austria  1991                                       50.93   \n",
       "2          Austria  1992                                       50.44   \n",
       "3          Austria  1993                                       50.58   \n",
       "4          Austria  1994                                       51.13   \n",
       "\n",
       "Indicator  Electricity generation - Aggregate fuel - Renewables (%)  \\\n",
       "0                                                      66.25          \n",
       "1                                                      65.09          \n",
       "2                                                      72.48          \n",
       "3                                                      74.16          \n",
       "4                                                      71.03          \n",
       "\n",
       "Indicator  Electricity generation - Total - Total generation (TWh)  \\\n",
       "0                                                      49.27         \n",
       "1                                                      50.16         \n",
       "2                                                      49.89         \n",
       "3                                                      51.31         \n",
       "4                                                      51.95         \n",
       "\n",
       "Indicator  Electricity imports - Electricity imports - Net imports (TWh)  \\\n",
       "0                                                      -0.46               \n",
       "1                                                       0.77               \n",
       "2                                                       0.55               \n",
       "3                                                      -0.73               \n",
       "4                                                      -0.82               \n",
       "\n",
       "Indicator  Power sector emissions - CO2 intensity - CO2 intensity (gCO2e per kWh)  \n",
       "0                                                     249.85                       \n",
       "1                                                     262.76                       \n",
       "2                                                     201.64                       \n",
       "3                                                     183.59                       \n",
       "4                                                     196.15                       "
      ]
     },
     "execution_count": 461,
     "metadata": {},
     "output_type": "execute_result"
    }
   ],
   "source": [
    "df_pivot.head()"
   ]
  },
  {
   "cell_type": "code",
   "execution_count": 463,
   "id": "3192b962-b213-4575-b2cc-95cb49a956b6",
   "metadata": {},
   "outputs": [],
   "source": [
    "# Example: assuming your DataFrame is named `df_pivoted`\n",
    "ireland_data = df_pivot[df_pivot['Area'] == 'Ireland']\n",
    "belgium_data = df_pivot[df_pivot['Area'] == 'Belgium']\n",
    "austria_data = df_pivot[df_pivot['Area'] == 'Austria']\n",
    "sweden_data = df_pivot[df_pivot['Area'] == 'Sweden']\n",
    "denmark_data = df_pivot[df_pivot['Area'] == 'Denmark']"
   ]
  },
  {
   "cell_type": "markdown",
   "id": "85e1f9b9-3f10-477d-9fc3-87253f16caf4",
   "metadata": {},
   "source": [
    "# APPLYING HYPOTHESIS TESTING"
   ]
  },
  {
   "cell_type": "markdown",
   "id": "c4298ab7-2ae8-48a7-90ff-5a28cc2a2f36",
   "metadata": {},
   "source": [
    "# CHECKING: 'Electricity generation - Aggregate fuel - Renewables (%)'"
   ]
  },
  {
   "cell_type": "markdown",
   "id": "15bf16e1-0b34-405a-88e5-f38597d17eca",
   "metadata": {},
   "source": [
    "# TEST 1"
   ]
  },
  {
   "cell_type": "code",
   "execution_count": 466,
   "id": "eed78fe1-8a77-484e-85ce-27c288aebde6",
   "metadata": {},
   "outputs": [],
   "source": [
    "renewables_col = 'Electricity generation - Aggregate fuel - Renewables (%)'\n",
    "\n",
    "# Drop NaNs because Shapiro-Wilk cannot handle them\n",
    "ireland_renewables = ireland_data[renewables_col].dropna()\n",
    "belgium_renewables = belgium_data[renewables_col].dropna()\n",
    "austria_renewables = austria_data[renewables_col].dropna()\n",
    "sweden_renewables = sweden_data[renewables_col].dropna()\n",
    "denmark_renewables = denmark_data[renewables_col].dropna()"
   ]
  },
  {
   "cell_type": "code",
   "execution_count": 468,
   "id": "9f24de58-f36f-496d-acfd-4c5815196600",
   "metadata": {},
   "outputs": [
    {
     "data": {
      "text/plain": [
       "count    35.000000\n",
       "mean     16.786857\n",
       "std      14.004380\n",
       "min       4.030000\n",
       "25%       5.115000\n",
       "50%       9.920000\n",
       "75%      26.450000\n",
       "max      45.320000\n",
       "Name: Electricity generation - Aggregate fuel - Renewables (%), dtype: float64"
      ]
     },
     "execution_count": 468,
     "metadata": {},
     "output_type": "execute_result"
    }
   ],
   "source": [
    "ireland_renewables.describe()"
   ]
  },
  {
   "cell_type": "code",
   "execution_count": 470,
   "id": "48a2aead-93b9-4a12-b529-82c800ecc0a5",
   "metadata": {},
   "outputs": [
    {
     "data": {
      "text/plain": [
       "count    35.000000\n",
       "mean      9.807143\n",
       "std      10.724813\n",
       "min       0.730000\n",
       "25%       0.975000\n",
       "50%       4.020000\n",
       "75%      17.830000\n",
       "max      35.860000\n",
       "Name: Electricity generation - Aggregate fuel - Renewables (%), dtype: float64"
      ]
     },
     "execution_count": 470,
     "metadata": {},
     "output_type": "execute_result"
    }
   ],
   "source": [
    "belgium_renewables.describe()"
   ]
  },
  {
   "cell_type": "code",
   "execution_count": null,
   "id": "0abe4aff-4713-4648-9d11-f004a00426de",
   "metadata": {},
   "outputs": [],
   "source": [
    "#Checking p values"
   ]
  },
  {
   "cell_type": "code",
   "execution_count": 486,
   "id": "e16700b6-03ca-4c54-8c30-c53b89e46daf",
   "metadata": {},
   "outputs": [
    {
     "name": "stdout",
     "output_type": "stream",
     "text": [
      "Ireland normality p-value: 6.021202170666885e-05\n",
      "Belgium normality p-value: 3.720865192801833e-05\n",
      "Austria normality p-value: 0.5452991997419276\n",
      "Sweden normality p-value: 0.22279384418674253\n",
      "Denmark normality p-value: 0.0010723735151860999\n"
     ]
    }
   ],
   "source": [
    "#from scipy.stats import shapiro\n",
    "\n",
    "# Shapiro-Wilk Test for Ireland\n",
    "shapiro_ireland = shapiro(ireland_renewables)\n",
    "print(f\"Ireland normality p-value: {shapiro_ireland.pvalue}\")\n",
    "\n",
    "    # Shapiro-Wilk Test for Belgium\n",
    "shapiro_belgium = shapiro(belgium_renewables)\n",
    "print(f\"Belgium normality p-value: {shapiro_belgium.pvalue}\")\n",
    "\n",
    "    # Shapiro-Wilk Test for Austria\n",
    "shapiro_austria = shapiro(austria_renewables)\n",
    "print(f\"Austria normality p-value: {shapiro_austria.pvalue}\")\n",
    "\n",
    "    # Shapiro-Wilk Test for Sweden\n",
    "shapiro_sweden = shapiro(sweden_renewables)\n",
    "print(f\"Sweden normality p-value: {shapiro_sweden.pvalue}\")\n",
    "\n",
    "    # Shapiro-Wilk Test for Sweden\n",
    "shapiro_denmark = shapiro(denmark_renewables)\n",
    "print(f\"Denmark normality p-value: {shapiro_denmark.pvalue}\")"
   ]
  },
  {
   "cell_type": "code",
   "execution_count": 488,
   "id": "40749ac8-ad50-4a2e-8665-201640e19003",
   "metadata": {},
   "outputs": [
    {
     "name": "stdout",
     "output_type": "stream",
     "text": [
      "Accept the null hypothesis. Austria renewable electricity data is normally distributed\n"
     ]
    }
   ],
   "source": [
    "if shapiro_austria.pvalue > 0.05:\n",
    "   print(\"Accept the null hypothesis. Austria renewable electricity data is normally distributed\")\n",
    "else: \n",
    "    print(\"Reject the null hypothesis. Austria renewable electricity data is not normally distributed\")"
   ]
  },
  {
   "cell_type": "code",
   "execution_count": 490,
   "id": "727edc7f-3d3f-419f-b192-8cbddc8ccbc8",
   "metadata": {},
   "outputs": [
    {
     "name": "stdout",
     "output_type": "stream",
     "text": [
      "Reject the null hypothesis. Ireland renewable electricity data is not normally distributed\n"
     ]
    }
   ],
   "source": [
    "#p-value > 0.05 then Data is normal\n",
    "#p-value < 0.05 then Data is not normal\n",
    "\n",
    "if shapiro_ireland.pvalue > 0.05:\n",
    "    print(\"Accept the null hypothesis. Ireland renewable electricity data is normally distributed\")\n",
    "else: \n",
    "    print(\"Reject the null hypothesis. Ireland renewable electricity data is not normally distributed\")"
   ]
  },
  {
   "cell_type": "code",
   "execution_count": 492,
   "id": "b757f057-eb63-41ad-bf5e-59a5623c5bd4",
   "metadata": {},
   "outputs": [
    {
     "name": "stdout",
     "output_type": "stream",
     "text": [
      "Reject the null hypothesis. Belgium renewable electricity data is not normally distributed\n"
     ]
    }
   ],
   "source": [
    "if shapiro_belgium.pvalue > 0.05:\n",
    "   print(\"Accept the null hypothesis. Belgium renewable electricity data is normally distributed\")\n",
    "else: \n",
    "    print(\"Reject the null hypothesis. Belgium renewable electricity data is not normally distributed\")"
   ]
  },
  {
   "cell_type": "code",
   "execution_count": 494,
   "id": "28baf20c-f6c7-4ebb-83f0-1da9a6b87fde",
   "metadata": {},
   "outputs": [
    {
     "name": "stdout",
     "output_type": "stream",
     "text": [
      "Accept the null hypothesis. Sweden renewable electricity data is normally distributed\n"
     ]
    }
   ],
   "source": [
    "if shapiro_sweden.pvalue > 0.05:\n",
    "   print(\"Accept the null hypothesis. Sweden renewable electricity data is normally distributed\")\n",
    "else: \n",
    "    print(\"Reject the null hypothesis. Sweden renewable electricity data is not normally distributed\")"
   ]
  },
  {
   "cell_type": "code",
   "execution_count": 496,
   "id": "89369d85-f666-40e0-97e4-c2ada6e566cf",
   "metadata": {},
   "outputs": [
    {
     "name": "stdout",
     "output_type": "stream",
     "text": [
      "Reject the null hypothesis. Denmark renewable electricity data is not normally distributed\n"
     ]
    }
   ],
   "source": [
    "if shapiro_denmark.pvalue > 0.05:\n",
    "   print(\"Accept the null hypothesis. Denmark renewable electricity data is normally distributed\")\n",
    "else: \n",
    "    print(\"Reject the null hypothesis. Denmark renewable electricity data is not normally distributed\")"
   ]
  },
  {
   "cell_type": "markdown",
   "id": "5d886e22-1469-4f1a-9bdd-2f70abbc7559",
   "metadata": {},
   "source": [
    "Since the data is not normal for Ireland and Begium, I will apply non-parametric tests i.e. Mann Whitney, Wilcoxon and Chi square. \n",
    "My data is numerical so I can apply Mann Whitney and Wilcoxon directly but since Chi square requires categorical data, I will have have to convert my numerical column data into categorical data. \n",
    "\n",
    "Moreover, since Austria and Sweden data is normally distributed, therefore, I can apply parametric tests on it. "
   ]
  },
  {
   "cell_type": "markdown",
   "id": "51bad20b-c6c3-459c-a2bb-697c6080a82b",
   "metadata": {},
   "source": [
    "# TEST 2"
   ]
  },
  {
   "cell_type": "markdown",
   "id": "29f319f9-96cb-4a12-8f2a-6f66418955c4",
   "metadata": {},
   "source": [
    "Test 2: Mann-Whitney U Test \n",
    "Use if data is not normal.\n",
    "Hypotheses:\n",
    "H0: The distribution of Renewable Electricity generation % is the same for Ireland and Belgium.\n",
    "H1: The distribution is different."
   ]
  },
  {
   "cell_type": "code",
   "execution_count": 379,
   "id": "df2b558e-c85f-4a9a-a776-8836c5b9f80e",
   "metadata": {},
   "outputs": [
    {
     "name": "stdout",
     "output_type": "stream",
     "text": [
      "Mann-Whitney U Test (Ireland vs Belgium - Renewable electricity generation- % )\n",
      "U-statistic = 861.0000, p-value = 0.0036\n",
      "→ Reject H₀: The distribution of Renewable Electricity generation % is different for Ireland and Belgium.\n",
      "\n"
     ]
    }
   ],
   "source": [
    "#from scipy.stats import mannwhitneyu\n",
    "\n",
    "u_stat, p_value = mannwhitneyu(ireland_renewables,belgium_renewables)\n",
    "\n",
    "print(\"Mann-Whitney U Test (Ireland vs Belgium - Renewable electricity generation- % )\")\n",
    "print(f\"U-statistic = {u_stat:.4f}, p-value = {p_value:.4f}\")\n",
    "if p_value < 0.05:\n",
    "    print(\"→ Reject H₀: The distribution of Renewable Electricity generation % is different for Ireland and Belgium.\\n\")\n",
    "else:\n",
    "    print(\"→ Fail to reject H₀: No significant difference\\n\")"
   ]
  },
  {
   "cell_type": "markdown",
   "id": "4445af60-8062-4598-8833-88f404e7c0c2",
   "metadata": {},
   "source": [
    "# TEST 3"
   ]
  },
  {
   "cell_type": "markdown",
   "id": "23ffa760-c43b-4201-bc21-5282c0bc7671",
   "metadata": {},
   "source": [
    "Test 3: Wilcoxon Signed-Rank Test \n",
    "Hypotheses:\n",
    "H0: Over the years 1990 to 2024, median difference between ireland and belgium electricity generation = 0\n",
    "H1: Median difference ≠ 0"
   ]
  },
  {
   "cell_type": "code",
   "execution_count": 377,
   "id": "a0f609aa-3ab2-44c9-98f6-f5880b933c2f",
   "metadata": {},
   "outputs": [
    {
     "name": "stdout",
     "output_type": "stream",
     "text": [
      "Wilcoxon Signed-Rank Test (ireland vs belgium)\n",
      "Statistic = 0.0000, p-value = 0.0000\n",
      "→ Reject H₀: Significant difference in paired samples\n",
      "\n"
     ]
    }
   ],
   "source": [
    "#from scipy.stats import wilcoxon\n",
    "w_stat, w_p = wilcoxon(ireland_renewables,belgium_renewables)\n",
    "print(\"Wilcoxon Signed-Rank Test (ireland vs belgium)\")\n",
    "print(f\"Statistic = {w_stat:.4f}, p-value = {w_p:.4f}\")\n",
    "if w_p < 0.05:\n",
    "    print(\"→ Reject H₀: Significant difference in paired samples\\n\")\n",
    "else:\n",
    "    print(\"→ Fail to reject H₀: No significant difference\\n\")"
   ]
  },
  {
   "cell_type": "markdown",
   "id": "b5521429-56b3-4022-8198-a4850d755a34",
   "metadata": {},
   "source": [
    "# TEST 4"
   ]
  },
  {
   "cell_type": "markdown",
   "id": "97f7a2cd-2d6c-49f2-9ac6-c58234329514",
   "metadata": {},
   "source": [
    "Test 4: Chi square test\n",
    "Used to determine if there is a significant association between two categorical variables.\n",
    "My data is numerical so I need to make it categorical by setting a threshold of mean electricity production i.e. Renewable electricity above mean (High) vs below mean (Low).\n",
    "\n",
    "Hypotheses:\n",
    "H0:There is no association between the country (Ireland or Belgium) and the classification of renewable generation (\"High\" or \"Low\") i.e., the proportions of \"High\"/\"Low\" are similar in both countries.\n",
    "\n",
    "H1:There is an association between the country and the classification of renewable generation i.e., one country is more likely to be \"High\" or \"Low\" than the other.\n"
   ]
  },
  {
   "cell_type": "code",
   "execution_count": 423,
   "id": "c7c7a14f-6e14-4ec5-adf8-1581484fd540",
   "metadata": {},
   "outputs": [
    {
     "name": "stdout",
     "output_type": "stream",
     "text": [
      "         High  Low\n",
      "Belgium    12   23\n",
      "Ireland    15   20\n"
     ]
    },
    {
     "name": "stderr",
     "output_type": "stream",
     "text": [
      "C:\\Users\\Dell\\AppData\\Local\\Temp\\ipykernel_14588\\1284553971.py:8: SettingWithCopyWarning: \n",
      "A value is trying to be set on a copy of a slice from a DataFrame.\n",
      "Try using .loc[row_indexer,col_indexer] = value instead\n",
      "\n",
      "See the caveats in the documentation: https://pandas.pydata.org/pandas-docs/stable/user_guide/indexing.html#returning-a-view-versus-a-copy\n",
      "  ireland_data['High/Low'] = ['High' if x >= combined_mean else 'Low' for x in ireland_data[renewables_col]]\n",
      "C:\\Users\\Dell\\AppData\\Local\\Temp\\ipykernel_14588\\1284553971.py:9: SettingWithCopyWarning: \n",
      "A value is trying to be set on a copy of a slice from a DataFrame.\n",
      "Try using .loc[row_indexer,col_indexer] = value instead\n",
      "\n",
      "See the caveats in the documentation: https://pandas.pydata.org/pandas-docs/stable/user_guide/indexing.html#returning-a-view-versus-a-copy\n",
      "  belgium_data['High/Low'] = ['High' if x >= combined_mean else 'Low' for x in belgium_data[renewables_col]]\n"
     ]
    }
   ],
   "source": [
    "# Calculate the mean for each country\n",
    "#ireland_mean = ireland_renewables.mean()\n",
    "#belgium_mean = belgium_renewables.mean()\n",
    "combined_mean = pd.concat([ireland_data[renewables_col], belgium_data[renewables_col]]).mean()\n",
    "\n",
    "\n",
    "# Classify as 'High' or 'Low' based on country-specific means\n",
    "ireland_data['High/Low'] = ['High' if x >= combined_mean else 'Low' for x in ireland_data[renewables_col]]\n",
    "belgium_data['High/Low'] = ['High' if x >= combined_mean else 'Low' for x in belgium_data[renewables_col]]\n",
    "\n",
    "# Create a contingency table (2x2)\n",
    "chi_square_data = pd.DataFrame({\n",
    "    'High': [\n",
    "        (belgium_data['High/Low'] == 'High').sum(),\n",
    "        (ireland_data['High/Low'] == 'High').sum()\n",
    "    ],\n",
    "    'Low': [\n",
    "        (belgium_data['High/Low'] == 'Low').sum(),\n",
    "        (ireland_data['High/Low'] == 'Low').sum()\n",
    "    ]\n",
    "}, index=['Belgium', 'Ireland'])\n",
    "\n",
    "print(chi_square_data)\n"
   ]
  },
  {
   "cell_type": "code",
   "execution_count": 425,
   "id": "39e4a84f-153b-4f7f-bb74-bd229f75c19e",
   "metadata": {},
   "outputs": [
    {
     "name": "stdout",
     "output_type": "stream",
     "text": [
      "Chi-Square Statistic: 0.2412\n",
      "p-value: 0.6234\n",
      "Degrees of Freedom: 1\n",
      "Expected Values:\n",
      "[[13.5 21.5]\n",
      " [13.5 21.5]]\n"
     ]
    }
   ],
   "source": [
    "# Perform Chi-Square test\n",
    "#from scipy.stats import chi2_contingency\n",
    "chi2_stat, p_value, df_scipy, expected_scipy = chi2_contingency(chi_square_data)\n",
    "\n",
    "# Print the results\n",
    "print(f\"Chi-Square Statistic: {chi2_stat:.4f}\")\n",
    "print(f\"p-value: {p_value:.4f}\")\n",
    "print(f\"Degrees of Freedom: {df_scipy}\")\n",
    "print(f\"Expected Values:\\n{expected_scipy}\")\n"
   ]
  },
  {
   "cell_type": "code",
   "execution_count": 427,
   "id": "b1722039-f3bb-4575-a598-8348a29d81dc",
   "metadata": {},
   "outputs": [
    {
     "data": {
      "text/plain": [
       "3.841458820694124"
      ]
     },
     "execution_count": 427,
     "metadata": {},
     "output_type": "execute_result"
    }
   ],
   "source": [
    "#from scipy.stats import chi2\n",
    "# Significance level (alpha)\n",
    "alpha = 0.05\n",
    "\n",
    "# Calculate the critical value from the Chi-Square distribution (inverse CDF)\n",
    "critical_value = chi2.ppf(1 - alpha, df_scipy)\n",
    "\n",
    "# Display the critical value\n",
    "critical_value"
   ]
  },
  {
   "cell_type": "code",
   "execution_count": 429,
   "id": "0357ed0e-8c7a-4acb-855d-af66d2e19b10",
   "metadata": {},
   "outputs": [
    {
     "name": "stdout",
     "output_type": "stream",
     "text": [
      "Fail to reject the null hypothesis:There is no association between the country (Ireland or Belgium) and the classification of renewable generation (High or Low).\n"
     ]
    }
   ],
   "source": [
    "# Output the results\n",
    "if chi2_stat > critical_value:\n",
    "    print(\"Reject the null hypothesis:There is an association between the country and the classification of renewable generation.\")\n",
    "else:\n",
    "    print(\"Fail to reject the null hypothesis:There is no association between the country (Ireland or Belgium) and the classification of renewable generation (High or Low).\")"
   ]
  },
  {
   "cell_type": "code",
   "execution_count": 431,
   "id": "20511ea2-41a3-47c4-853f-7a8d10481525",
   "metadata": {},
   "outputs": [
    {
     "name": "stdout",
     "output_type": "stream",
     "text": [
      "Fail to reject the null hypothesis:There is no association between the country (Ireland or Belgium) and the classification of renewable generation (High or Low).\n"
     ]
    }
   ],
   "source": [
    "# Output the results using p-value\n",
    "if p_value < alpha:\n",
    "      print(\"Reject the null hypothesis: There is an association between the country and the classification of renewable generation.\")\n",
    "else:\n",
    "    print(\"Fail to reject the null hypothesis:There is no association between the country (Ireland or Belgium) and the classification of renewable generation (High or Low).\")"
   ]
  },
  {
   "cell_type": "markdown",
   "id": "452bdcb0-713f-4ba2-9f9d-d61becf52b11",
   "metadata": {},
   "source": [
    "# TEST 5"
   ]
  },
  {
   "cell_type": "markdown",
   "id": "a518f931-b2a9-45d8-99fe-e9e79ca5adb1",
   "metadata": {},
   "source": [
    "Now I want to apply ANOVA Test to Ireland, Denmark and Belgium data for renewable electricity generation. Since Ireland, Denmark and Belgium data is not normally distributed, therefore, we can apply a variant of ANOVA called Kruskal-Wallis test."
   ]
  },
  {
   "cell_type": "markdown",
   "id": "cd0898b3-59f5-4fac-89f2-0a4186ff4e42",
   "metadata": {},
   "source": [
    "Test 5: Kruskal-Wallis test.\n",
    "\n",
    "Hypotheses:\n",
    "Null hypothesis (H₀): The median renewable electricity generation is the same for Ireland, Denmark, and Belgium.\n",
    "Alternative hypothesis (H₁): At least one country differs in median electricity generation."
   ]
  },
  {
   "cell_type": "code",
   "execution_count": 501,
   "id": "e2740ce6-6451-4342-8e3d-a79490665fa2",
   "metadata": {},
   "outputs": [
    {
     "name": "stdout",
     "output_type": "stream",
     "text": [
      "Kruskal-Wallis H-statistic = 23.2590\n",
      "p-value = 0.0000\n",
      "→ Reject H₀: There is a significant difference in renewable electricity generation medians between at least two countries.\n"
     ]
    }
   ],
   "source": [
    "#from scipy.stats import kruskal\n",
    "\n",
    "# Perform Kruskal-Wallis H-test\n",
    "stat, p_value = kruskal(ireland_renewables, denmark_renewables, belgium_renewables)\n",
    "\n",
    "# Print the results\n",
    "print(f\"Kruskal-Wallis H-statistic = {stat:.4f}\")\n",
    "print(f\"p-value = {p_value:.4f}\")\n",
    "\n",
    "# Interpretation\n",
    "if p_value < 0.05:\n",
    "    print(\"→ Reject H₀: There is a significant difference in renewable electricity generation medians between at least two countries.\")\n",
    "else:\n",
    "    print(\"→ Fail to reject H₀: No significant difference in renewable electricity generation medians between countries.\")\n"
   ]
  },
  {
   "cell_type": "code",
   "execution_count": null,
   "id": "cb91c521-70c7-4781-832c-0501a3de9e2c",
   "metadata": {},
   "outputs": [],
   "source": []
  },
  {
   "cell_type": "code",
   "execution_count": null,
   "id": "a75c9b3a-2072-4394-bf45-c6e05d7a81c8",
   "metadata": {},
   "outputs": [],
   "source": []
  },
  {
   "cell_type": "code",
   "execution_count": null,
   "id": "8109f6ff-39bb-4b39-8fa6-ec8e9193cf24",
   "metadata": {},
   "outputs": [],
   "source": []
  },
  {
   "cell_type": "code",
   "execution_count": null,
   "id": "4e831c2b-af86-4293-a824-7cb2e945095e",
   "metadata": {},
   "outputs": [],
   "source": [
    "#Checking Austria data"
   ]
  },
  {
   "cell_type": "markdown",
   "id": "63abd440-1edd-47c3-97bc-eb97de5dd3a0",
   "metadata": {},
   "source": [
    "Since Austria data is normally distributed, therefore, I can apply parametric tests on it. I want to see renewables data befroe and after 2003 for Austria.I have chosen 2003 as threshold because in 2003,the Austrian Green Electricity Act was passed that was a major national push to promote renewable energy."
   ]
  },
  {
   "cell_type": "code",
   "execution_count": 503,
   "id": "60e3f373-18c7-45c8-b6cd-dbcce61d908a",
   "metadata": {},
   "outputs": [
    {
     "name": "stdout",
     "output_type": "stream",
     "text": [
      "Levene's test: stat=8.2088, p-value=0.0072\n"
     ]
    }
   ],
   "source": [
    "#import pandas as pd\n",
    "#from scipy.stats import ttest_ind, levene\n",
    "\n",
    "# Your DataFrame: df\n",
    "# Assuming your pivoted column name for renewables is:\n",
    "renewables_col = 'Electricity generation - Aggregate fuel - Renewables (%)'\n",
    "\n",
    "# Filter data for Austria\n",
    "austria_data = df_pivot[df_pivot['Area'] == 'Austria'].copy()\n",
    "\n",
    "# Drop missing values in the renewables column\n",
    "austria_data = austria_data.dropna(subset=[renewables_col])\n",
    "\n",
    "# Split by year: before and after 2003\n",
    "pre_2003 = austria_data[austria_data['Year'] < 2003][renewables_col]\n",
    "post_2003 = austria_data[austria_data['Year'] >= 2003][renewables_col]\n",
    "\n",
    "# 1. Levene’s Test: Check equality of variances\n",
    "levene_stat, levene_p = levene(pre_2003, post_2003)\n",
    "\n",
    "print(f\"Levene's test: stat={levene_stat:.4f}, p-value={levene_p:.4f}\")\n",
    "equal_var = levene_p > 0.05  # If p > 0.05, assume equal variances\n",
    "\n",
    "\n"
   ]
  },
  {
   "cell_type": "markdown",
   "id": "f9988553-e726-494d-935d-1e9ce4947dc2",
   "metadata": {},
   "source": [
    "Since p < 0.05, we reject the null hypothesis i.e. The variances of the two groups (e.g., Austria's renewables pre-2003 vs. post-2003) are statistically significantly different. Therefore, we can apply T-test (Welch test).\n"
   ]
  },
  {
   "cell_type": "markdown",
   "id": "dcf0e83b-ad2e-40a2-8be5-46049a4a5c89",
   "metadata": {},
   "source": [
    "Test 6: T Test \n",
    "Use an independent t-test to compare the energy data before and after 2003 in Austria. We will use Welch’s t-test (which is a variation of the t-test that does not assume equal population variances).\n",
    "\n",
    "Hypotheses:\n",
    "\n",
    "H0: There is no significant difference in Austria’s mean renewable electricity share before and after 2003.\n",
    "H1: There is a significant difference in Austria’s mean renewable electricity share before and after 2003."
   ]
  },
  {
   "cell_type": "code",
   "execution_count": 505,
   "id": "d04c4de6-b011-46be-8cae-ea6a1cbdfa97",
   "metadata": {},
   "outputs": [
    {
     "name": "stdout",
     "output_type": "stream",
     "text": [
      "\n",
      "T-test:\n",
      "t-statistic = -2.3750, p-value = 0.0244\n",
      "Reject the null hypothesis: There is a significant difference in renewable electricity share before and after 2003.\n"
     ]
    }
   ],
   "source": [
    "#T-Test \n",
    "t_stat, p_val = ttest_ind(pre_2003, post_2003, equal_var=equal_var)\n",
    "\n",
    "print(f\"\\nT-test:\")\n",
    "print(f\"t-statistic = {t_stat:.4f}, p-value = {p_val:.4f}\")\n",
    "\n",
    "# 3. Hypothesis interpretation\n",
    "alpha = 0.05\n",
    "if p_val < alpha:\n",
    "    print(\"Reject the null hypothesis: There is a significant difference in renewable electricity share before and after 2003.\")\n",
    "else:\n",
    "    print(\"Fail to reject the null hypothesis: There is no significant difference in renewable electricity share before and after 2003.\")"
   ]
  },
  {
   "cell_type": "code",
   "execution_count": null,
   "id": "5196fead-6cce-4125-94e8-d94b87ac063c",
   "metadata": {},
   "outputs": [],
   "source": [
    "I want to compare renewable data for Austria and Sweden using Z Test since both are normally distributed. "
   ]
  },
  {
   "cell_type": "markdown",
   "id": "ce58630b-0793-4901-97d2-5b53bf24dcd3",
   "metadata": {},
   "source": [
    "Test 7: Z Test\n",
    "\n",
    "Hypotheses:\n",
    "H0: There is no difference in average renewable electricity share between Austria and Sweden.\n",
    "H1: There is a difference in the average renewable electricity share between Austria and Sweden."
   ]
  },
  {
   "cell_type": "code",
   "execution_count": 507,
   "id": "46df74ff-3a14-484a-ada4-77c5248f0955",
   "metadata": {},
   "outputs": [],
   "source": [
    "renewables_col = 'Electricity generation - Aggregate fuel - Renewables (%)'\n",
    "\n",
    "# Drop NaNs\n",
    "austria = df_pivot[df_pivot['Area'] == 'Austria'][renewables_col].dropna()\n",
    "sweden = df_pivot[df_pivot['Area'] == 'Sweden'][renewables_col].dropna()\n"
   ]
  },
  {
   "cell_type": "code",
   "execution_count": 509,
   "id": "7d1931e5-f85f-4de3-8ca6-1a814b9717ae",
   "metadata": {},
   "outputs": [
    {
     "name": "stdout",
     "output_type": "stream",
     "text": [
      "35 35\n"
     ]
    }
   ],
   "source": [
    "print(len(austria), len(sweden))  # Should be ≥ 30 ideally for each\n"
   ]
  },
  {
   "cell_type": "code",
   "execution_count": 511,
   "id": "f321f6fd-7b04-4608-b62e-54980606da62",
   "metadata": {},
   "outputs": [
    {
     "name": "stdout",
     "output_type": "stream",
     "text": [
      "z-statistic: 10.4924, p-value (z-test): 0.0000\n"
     ]
    }
   ],
   "source": [
    "#Since sample size is greater than 30 therefore i can apply Z Test\n",
    "#from scipy.stats import norm\n",
    "#from scipy import stats\n",
    "#import numpy as np\n",
    "\n",
    "# Sample statistics\n",
    "mean1 = np.mean(austria)\n",
    "mean2 = np.mean(sweden)\n",
    "std1 = np.std(austria, ddof=1)\n",
    "std2 = np.std(sweden, ddof=1)\n",
    "n1 = len(austria)\n",
    "n2 = len(sweden)\n",
    "\n",
    "# Pooled standard error\n",
    "pooled_std = np.sqrt((std1**2 / n1) + (std2**2 / n2))\n",
    "\n",
    "# Z-score\n",
    "z_stat = (mean1 - mean2) / pooled_std\n",
    "\n",
    "# Two-tailed p-value\n",
    "# For the two-tailed z-test, we use the normal distribution\n",
    "p_value_ztest = 2 * (1 - stats.norm.cdf(abs(z_stat)))\n",
    "\n",
    "print(f\"z-statistic: {z_stat:.4f}, p-value (z-test): {p_value_ztest:.4f}\")\n",
    "\n"
   ]
  },
  {
   "cell_type": "code",
   "execution_count": 513,
   "id": "e8cc5472-e8c3-4092-accf-b23b400d98c0",
   "metadata": {},
   "outputs": [
    {
     "name": "stdout",
     "output_type": "stream",
     "text": [
      "Reject the null hypothesis: There is a significant difference in the average renewable electricity share between Austria and Sweden. \n"
     ]
    }
   ],
   "source": [
    "# Decision for z-test (using α = 0.05)\n",
    "if p_value_ztest < alpha:\n",
    "    print(\"Reject the null hypothesis: There is a significant difference in the average renewable electricity share between Austria and Sweden. \")\n",
    "else:\n",
    "    print(\"Fail to reject the null hypothesis: There is no significant difference in the average renewable electricity share between Austria and Sweden.\")\n"
   ]
  },
  {
   "cell_type": "code",
   "execution_count": null,
   "id": "ea046861-1840-44ef-aa58-f8e711386a14",
   "metadata": {},
   "outputs": [],
   "source": []
  },
  {
   "cell_type": "markdown",
   "id": "31e2e7ce-7aed-4173-b15f-6c872aa54c08",
   "metadata": {},
   "source": [
    "## EXTRA WORK"
   ]
  },
  {
   "cell_type": "markdown",
   "id": "5806f874-f891-4c65-b2a5-b76a34e2467c",
   "metadata": {},
   "source": [
    "# CHECKING: 'Electricity demand - Demand - Demand (TWh)'"
   ]
  },
  {
   "cell_type": "code",
   "execution_count": null,
   "id": "1e1c0bdb-7d0f-403a-83e7-e29c35f84b35",
   "metadata": {},
   "outputs": [],
   "source": [
    "## Applying Inferential Statistics on Electricity demand"
   ]
  },
  {
   "cell_type": "code",
   "execution_count": 516,
   "id": "46bbadf9-61cc-423f-8f73-2660b0c13f32",
   "metadata": {},
   "outputs": [],
   "source": [
    "demand_col = 'Electricity demand - Demand - Demand (TWh)'"
   ]
  },
  {
   "cell_type": "code",
   "execution_count": 518,
   "id": "0e525881-808e-401a-aa1f-347b18993dbd",
   "metadata": {},
   "outputs": [],
   "source": [
    "\n",
    "# Drop NaNs because Shapiro-Wilk cannot handle them\n",
    "#ireland_renewables = ireland_data[renewables_col].dropna()\n",
    "ireland_demand = ireland_data[demand_col].dropna()\n",
    "belgium_demand = belgium_data[demand_col].dropna()\n",
    "austria_demand = austria_data[demand_col].dropna()\n",
    "sweden_demand = sweden_data[demand_col].dropna()"
   ]
  },
  {
   "cell_type": "markdown",
   "id": "d7ab3d1e-9d5c-4894-a741-4ba66b3ea30d",
   "metadata": {},
   "source": [
    "Test 1:Shapiro Test. Used to check normality of data.\n",
    "Hypotheses: \n",
    "H0: Electricity Demand Data is normally distributed.\n",
    "H1: Electricity Demand Data is not normally distributed."
   ]
  },
  {
   "cell_type": "code",
   "execution_count": 520,
   "id": "d73e4d1f-8f74-4d5a-806a-c766bde64419",
   "metadata": {},
   "outputs": [
    {
     "name": "stdout",
     "output_type": "stream",
     "text": [
      "Ireland normality p-value: 0.029562734276114853\n",
      "Belgium normality p-value: 0.00016787639972897517\n",
      "Austria normality p-value: 0.0004692344698031188\n",
      "Sweden normality p-value: 0.651233465978291\n"
     ]
    }
   ],
   "source": [
    "#from scipy.stats import shapiro\n",
    "\n",
    "# Shapiro-Wilk Test for Ireland\n",
    "shapiro_ireland_d = shapiro(ireland_demand)\n",
    "print(f\"Ireland normality p-value: {shapiro_ireland_d.pvalue}\")\n",
    "\n",
    "    # Shapiro-Wilk Test for Belgium\n",
    "shapiro_belgium_d = shapiro(belgium_demand)\n",
    "print(f\"Belgium normality p-value: {shapiro_belgium_d.pvalue}\")\n",
    "\n",
    "    # Shapiro-Wilk Test for Austria\n",
    "shapiro_austria_d = shapiro(austria_demand)\n",
    "print(f\"Austria normality p-value: {shapiro_austria_d.pvalue}\")\n",
    "\n",
    "    # Shapiro-Wilk Test for Sweden\n",
    "shapiro_sweden_d = shapiro(sweden_demand)\n",
    "print(f\"Sweden normality p-value: {shapiro_sweden_d.pvalue}\")"
   ]
  },
  {
   "cell_type": "code",
   "execution_count": 522,
   "id": "75fae9e4-2270-4adb-9fcd-0ad74fac9afe",
   "metadata": {},
   "outputs": [
    {
     "name": "stdout",
     "output_type": "stream",
     "text": [
      "Reject the null hypothesis. Austria electricity demand data is not normally distributed\n",
      "Reject the null hypothesis. Ireland electricity demand data is not normally distributed\n",
      "Reject the null hypothesis. Belgium electricity demand data is not normally distributed\n",
      "Accept the null hypothesis. Sweden electricity demand data is normally distributed\n"
     ]
    }
   ],
   "source": [
    "#p-value > 0.05 then Data is normal\n",
    "#p-value < 0.05 then Data is not normal\n",
    "\n",
    "if shapiro_austria_d.pvalue > 0.05:\n",
    "   print(\"Accept the null hypothesis. Austria electricity demand data is normally distributed\")\n",
    "else: \n",
    "    print(\"Reject the null hypothesis. Austria electricity demand data is not normally distributed\")\n",
    "\n",
    "if shapiro_ireland_d.pvalue > 0.05:\n",
    "    print(\"Accept the null hypothesis. Ireland electricity demand data is normally distributed\")\n",
    "else: \n",
    "    print(\"Reject the null hypothesis. Ireland electricity demand data is not normally distributed\")\n",
    "\n",
    "if shapiro_belgium_d.pvalue > 0.05:\n",
    "   print(\"Accept the null hypothesis. Belgium electricity demand data is normally distributed\")\n",
    "else: \n",
    "    print(\"Reject the null hypothesis. Belgium electricity demand data is not normally distributed\")\n",
    "\n",
    "if shapiro_sweden_d.pvalue > 0.05:\n",
    "   print(\"Accept the null hypothesis. Sweden electricity demand data is normally distributed\")\n",
    "else: \n",
    "    print(\"Reject the null hypothesis. Sweden electricity demand data is not normally distributed\")"
   ]
  },
  {
   "cell_type": "markdown",
   "id": "8ec0d17a-08b4-42de-8a10-5a45ad026193",
   "metadata": {},
   "source": [
    "Test 2: Mann-Whitney U Test. Use if data is not normal. \n",
    "Since Ireland and Belgium data is not normally distributed therefore we can apply Mann-Whitney Test.\n",
    "Hypotheses:\n",
    "H0: The distribution of Electricity demand in TWh is the same for Ireland and Belgium.\n",
    "H1: The distribution is different."
   ]
  },
  {
   "cell_type": "code",
   "execution_count": 524,
   "id": "6d865bc4-4337-4e0b-91f6-fb7239bac0d8",
   "metadata": {},
   "outputs": [
    {
     "name": "stdout",
     "output_type": "stream",
     "text": [
      "Mann-Whitney U Test (Ireland vs Belgium - Electricity demand- TWh)\n",
      "U-statistic = 0.0000, p-value = 0.0000\n",
      "→ Reject H₀: The distribution of Electricity demand in TWh is different for Ireland and Belgium.\n",
      "\n"
     ]
    }
   ],
   "source": [
    "u_stat, p_value = mannwhitneyu(ireland_demand,belgium_demand)\n",
    "\n",
    "print(\"Mann-Whitney U Test (Ireland vs Belgium - Electricity demand- TWh)\")\n",
    "print(f\"U-statistic = {u_stat:.4f}, p-value = {p_value:.4f}\")\n",
    "if p_value < 0.05:\n",
    "    print(\"→ Reject H₀: The distribution of Electricity demand in TWh is different for Ireland and Belgium.\\n\")\n",
    "else:\n",
    "    print(\"→ Fail to reject H₀: No significant difference\\n\")\n"
   ]
  },
  {
   "cell_type": "markdown",
   "id": "6ee5315b-5763-49ae-81ae-97c0c5c8aa6f",
   "metadata": {},
   "source": [
    "Test 3: Wilcoxon Signed-Rank Test. Use if data is not normal. \n",
    "Since Ireland and Belgium data is not normally distributed therefore we can apply Wilcoxon Signed-Rank Test.\n",
    "Hypotheses:\n",
    "H0: Over the years 1990 to 2024, median difference between ireland and belgium electricity demand = 0\n",
    "H1: Median difference ≠ 0"
   ]
  },
  {
   "cell_type": "code",
   "execution_count": 526,
   "id": "5908ea81-b401-4e35-964e-5738514fce65",
   "metadata": {},
   "outputs": [
    {
     "name": "stdout",
     "output_type": "stream",
     "text": [
      "Wilcoxon Signed-Rank Test (ireland vs belgium)\n",
      "Statistic = 0.0000, p-value = 0.0000\n",
      "→ Reject H₀: Significant difference in paired samples\n",
      "\n"
     ]
    }
   ],
   "source": [
    "#from scipy.stats import wilcoxon\n",
    "w_stat, w_p = wilcoxon(ireland_demand,belgium_demand)\n",
    "print(\"Wilcoxon Signed-Rank Test (ireland vs belgium)\")\n",
    "print(f\"Statistic = {w_stat:.4f}, p-value = {w_p:.4f}\")\n",
    "if w_p < 0.05:\n",
    "    print(\"→ Reject H₀: Significant difference in paired samples\\n\")\n",
    "else:\n",
    "    print(\"→ Fail to reject H₀: No significant difference in electricity demand\\n\")"
   ]
  },
  {
   "cell_type": "markdown",
   "id": "7376b931-dfed-4d13-95b9-ac251e99ff99",
   "metadata": {},
   "source": [
    "Test 4: Chi square test\n",
    "Used to determine if there is a significant association between two categorical variables.\n",
    "My data is numerical so I need to make it categorical by setting a threshold of mean electricity demand i.e. electricity demand above mean (High) vs below mean (Low).\n",
    "Hypotheses:\n",
    "H0: Proportion of High and Low electricity demand years is the same for both countries i.e. any difference is not statistically significant.\n",
    "H1: The electricity demand levels differ significantly between the two countries.\n"
   ]
  },
  {
   "cell_type": "markdown",
   "id": "5a80b217-7ef2-4f70-9770-4033da39a7c5",
   "metadata": {},
   "source": [
    "Null Hypothesis (H₀):\n",
    "There is no association between the country (Ireland or Belgium) and electricity demand level (High or Low).\n",
    "→ This means that the proportion of High and Low electricity demand years is the same for both countries.\n",
    "\n",
    "Alternative Hypothesis (H₁):\n",
    "There is an association between the country and electricity demand level (High or Low).\n",
    "→ This means that the proportion of High and Low electricity demand years is different between Ireland and Belgium."
   ]
  },
  {
   "cell_type": "code",
   "execution_count": 546,
   "id": "d7a3e170-1269-4bfe-825d-a40ac36c9099",
   "metadata": {},
   "outputs": [
    {
     "name": "stdout",
     "output_type": "stream",
     "text": [
      "         High  Low\n",
      "Belgium    35    0\n",
      "Ireland     0   35\n"
     ]
    },
    {
     "name": "stderr",
     "output_type": "stream",
     "text": [
      "C:\\Users\\Dell\\AppData\\Local\\Temp\\ipykernel_14588\\2783591721.py:7: SettingWithCopyWarning: \n",
      "A value is trying to be set on a copy of a slice from a DataFrame.\n",
      "Try using .loc[row_indexer,col_indexer] = value instead\n",
      "\n",
      "See the caveats in the documentation: https://pandas.pydata.org/pandas-docs/stable/user_guide/indexing.html#returning-a-view-versus-a-copy\n",
      "  ireland_data['High/Low'] = ['High' if x >= combined_mean else 'Low' for x in ireland_data[demand_col]]\n",
      "C:\\Users\\Dell\\AppData\\Local\\Temp\\ipykernel_14588\\2783591721.py:8: SettingWithCopyWarning: \n",
      "A value is trying to be set on a copy of a slice from a DataFrame.\n",
      "Try using .loc[row_indexer,col_indexer] = value instead\n",
      "\n",
      "See the caveats in the documentation: https://pandas.pydata.org/pandas-docs/stable/user_guide/indexing.html#returning-a-view-versus-a-copy\n",
      "  belgium_data['High/Low'] = ['High' if x >= combined_mean else 'Low' for x in belgium_data[demand_col]]\n"
     ]
    }
   ],
   "source": [
    "# Calculate the mean for each country\n",
    "#ireland_mean = ireland_demand.mean()\n",
    "#belgium_mean = belgium_demand.mean()\n",
    "combined_mean = pd.concat([ireland_data[demand_col], belgium_data[demand_col]]).mean()\n",
    "\n",
    "# Classify as 'High' or 'Low' based on country-specific means\n",
    "ireland_data['High/Low'] = ['High' if x >= combined_mean else 'Low' for x in ireland_data[demand_col]]\n",
    "belgium_data['High/Low'] = ['High' if x >= combined_mean else 'Low' for x in belgium_data[demand_col]]\n",
    "\n",
    "# Create a contingency table (2x2)\n",
    "chi_square_data = pd.DataFrame({\n",
    "    'High': [\n",
    "        (belgium_data['High/Low'] == 'High').sum(),\n",
    "        (ireland_data['High/Low'] == 'High').sum()\n",
    "    ],\n",
    "    'Low': [\n",
    "        (belgium_data['High/Low'] == 'Low').sum(),\n",
    "        (ireland_data['High/Low'] == 'Low').sum()\n",
    "    ]\n",
    "}, index=['Belgium', 'Ireland'])\n",
    "\n",
    "print(chi_square_data)\n"
   ]
  },
  {
   "cell_type": "markdown",
   "id": "52ba8ebc-bb39-4983-8651-59b3be05492b",
   "metadata": {},
   "source": [
    "From the above table, we can see that it is clearly imbalanced. The two cells are zero so chi-square is invalid due to violated assumptions. Therefore, we can use Fisher’s Exact Test as it can handle this correctly, even with zeroes.\n",
    "\n",
    "Fisher’s Exact Test is a statistical significance test used to determine if there is a non-random association between two categorical variables — especially when your data is in a 2x2 contingency table and some cells have low or zero counts.It’s called “exact” because it does not rely on approximations (like the chi-square test does), instead, it calculates the exact probability of the observed results happening by chance.\n",
    "\n",
    "It is commonly used instead of the Chi-Square test when sample sizes are small or unbalanced.It calculates the exact probability (p-value) of getting a table this extreme (or more extreme) just by chance — under the null hypothesis that the row and column variables are independent.\n",
    "\n",
    "In our context: \n",
    "Null Hypothesis:\n",
    "Country and demand level are not associated.\n",
    "(The distribution of High/Low is the same in both countries.)\n",
    "\n",
    "Alternative Hypothesis:\n",
    "Country and demand level are associated.\n",
    "(One country has more Highs or more Lows than the other.)"
   ]
  },
  {
   "cell_type": "markdown",
   "id": "af6aec31-4e33-4878-b84f-7f02d6629deb",
   "metadata": {},
   "source": [
    "Test 5: Fisher's Exact Test\n",
    "Used to check whether two categorical variables are related.\n",
    "\n",
    "\n",
    "Hypotheses:\n",
    "H0: There is no association between country and demand level (i.e., proportions of High/Low are the same for both).\n",
    "H1: There is an association (i.e., the proportions differ).\n"
   ]
  },
  {
   "cell_type": "code",
   "execution_count": 550,
   "id": "1f8d140c-977f-4d2e-ace4-cf2685ca990e",
   "metadata": {},
   "outputs": [
    {
     "name": "stdout",
     "output_type": "stream",
     "text": [
      "Fisher's Exact Test p-value: 0.0000\n",
      "→ Reject H₀: Country and demand level are associated i.e. One country has more Highs or more Lows than the other\n",
      "\n"
     ]
    }
   ],
   "source": [
    "#from scipy.stats import fisher_exact\n",
    "\n",
    "# Convert to array format\n",
    "table = chi_square_data.values  # shape: (2,2)\n",
    "# Make sure the columns are in [High, Low] order\n",
    "oddsratio, p_value = fisher_exact(table)\n",
    "\n",
    "print(f\"Fisher's Exact Test p-value: {p_value:.4f}\")\n",
    "if p_value < 0.05:\n",
    "    print(\"→ Reject H₀: Country and demand level are associated i.e. One country has more Highs or more Lows than the other\\n\")\n",
    "else:\n",
    "    print(\"→ Fail to reject H₀:Country and demand level are not associated i.e. The distribution of High/Low is the same in both countries.\\n\")"
   ]
  },
  {
   "cell_type": "markdown",
   "id": "cce50591-206c-4388-b165-bccb7a161d36",
   "metadata": {},
   "source": [
    "Now I want to apply ANOVA Test to Ireland, Austria and Belgium data for electricity demand. Since Ireland, Austria and Belgium data is not normally distributed, therefore, we can apply a variant of ANOVA called Kruskal-Wallis test."
   ]
  },
  {
   "cell_type": "markdown",
   "id": "05958b2a-3280-48e8-bcb1-7fdb2cc0d89f",
   "metadata": {},
   "source": [
    "Test 5: Kruskal-Wallis test.\n",
    "\n",
    "Hypotheses:\n",
    "HO: The median electricity demand is the same for Ireland, Austria, and Belgium.\n",
    "HI: At least one country differs in median electricity demand."
   ]
  },
  {
   "cell_type": "code",
   "execution_count": 278,
   "id": "7c73b163-aefa-42e4-aa6a-ae7f07ecfeec",
   "metadata": {},
   "outputs": [
    {
     "name": "stdout",
     "output_type": "stream",
     "text": [
      "Kruskal-Wallis H-statistic = 88.9036\n",
      "p-value = 0.0000\n",
      "→ Reject H₀: There is a significant difference in electricity demand medians between at least two countries.\n"
     ]
    }
   ],
   "source": [
    "#from scipy.stats import kruskal\n",
    "\n",
    "# Perform Kruskal-Wallis H-test\n",
    "stat, p_value = kruskal(ireland_demand, austria_demand, belgium_demand)\n",
    "\n",
    "# Print the results\n",
    "print(f\"Kruskal-Wallis H-statistic = {stat:.4f}\")\n",
    "print(f\"p-value = {p_value:.4f}\")\n",
    "\n",
    "# Interpretation\n",
    "if p_value < 0.05:\n",
    "    print(\"→ Reject H₀: There is a significant difference in electricity demand medians between at least two countries.\")\n",
    "else:\n",
    "    print(\"→ Fail to reject H₀: No significant difference in electricity demand medians between countries.\")\n"
   ]
  },
  {
   "cell_type": "code",
   "execution_count": null,
   "id": "4ceb493a-65f9-4c95-bde4-8a19d618a636",
   "metadata": {},
   "outputs": [],
   "source": []
  }
 ],
 "metadata": {
  "kernelspec": {
   "display_name": "Python [conda env:base] *",
   "language": "python",
   "name": "conda-base-py"
  },
  "language_info": {
   "codemirror_mode": {
    "name": "ipython",
    "version": 3
   },
   "file_extension": ".py",
   "mimetype": "text/x-python",
   "name": "python",
   "nbconvert_exporter": "python",
   "pygments_lexer": "ipython3",
   "version": "3.12.3"
  }
 },
 "nbformat": 4,
 "nbformat_minor": 5
}
